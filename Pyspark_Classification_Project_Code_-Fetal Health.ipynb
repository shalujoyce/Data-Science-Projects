{
 "cells": [
  {
   "cell_type": "raw",
   "metadata": {},
   "source": [
    "This dataset contains 2126 records of features extracted from Cardiotocogram exams, which were then classified by three expert obstetritians into 3 classes:\n",
    "\n",
    "Normal - 1 Suspect - 2 Pathological - 3"
   ]
  },
  {
   "cell_type": "code",
   "execution_count": 1,
   "metadata": {},
   "outputs": [],
   "source": [
    "#set environment\n",
    "import os\n",
    "import sys\n",
    " \n",
    "os.environ[\"SPARK_HOME\"] = \"/usr/hdp/current/spark2-client\"\n",
    "os.environ[\"PYLIB\"] = os.environ[\"SPARK_HOME\"] + \"/python/lib\"\n",
    "# In below two lines, use /usr/bin/python2.7 if you want to use Python 2\n",
    "os.environ[\"PYSPARK_PYTHON\"] = \"/usr/local/anaconda/bin/python\" \n",
    "os.environ[\"PYSPARK_DRIVER_PYTHON\"] = \"/usr/local/anaconda/bin/python\"\n",
    "sys.path.insert(0, os.environ[\"PYLIB\"] +\"/py4j-0.10.4-src.zip\")\n",
    "sys.path.insert(0, os.environ[\"PYLIB\"] +\"/pyspark.zip\")"
   ]
  },
  {
   "cell_type": "code",
   "execution_count": 3,
   "metadata": {},
   "outputs": [],
   "source": [
    "#import Sparksession driver\n",
    "from pyspark.sql import SparkSession\n",
    "spark = SparkSession \\\n",
    "    .builder \\\n",
    "    .appName(\"Classification of Fetal Health Dataset\") \\\n",
    "    .getOrCreate()"
   ]
  },
  {
   "cell_type": "code",
   "execution_count": 4,
   "metadata": {},
   "outputs": [
    {
     "name": "stdout",
     "output_type": "stream",
     "text": [
      "+--------------+-------------+--------------+--------------------+-------------------+--------------------+------------------------+-------------------------------+------------------------------------+------------------------------------------------------+-----------------------------------+---------------+-------------+-------------+-------------------------+--------------------------+--------------+--------------+----------------+------------------+------------------+------------+\n",
      "|baseline value|accelerations|fetal_movement|uterine_contractions|light_decelerations|severe_decelerations|prolongued_decelerations|abnormal_short_term_variability|mean_value_of_short_term_variability|percentage_of_time_with_abnormal_long_term_variability|mean_value_of_long_term_variability|histogram_width|histogram_min|histogram_max|histogram_number_of_peaks|histogram_number_of_zeroes|histogram_mode|histogram_mean|histogram_median|histogram_variance|histogram_tendency|fetal_health|\n",
      "+--------------+-------------+--------------+--------------------+-------------------+--------------------+------------------------+-------------------------------+------------------------------------+------------------------------------------------------+-----------------------------------+---------------+-------------+-------------+-------------------------+--------------------------+--------------+--------------+----------------+------------------+------------------+------------+\n",
      "|         120.0|          0.0|           0.0|                 0.0|                0.0|                 0.0|                     0.0|                           73.0|                                 0.5|                                                  43.0|                                2.4|           64.0|         62.0|        126.0|                      2.0|                       0.0|         120.0|         137.0|           121.0|              73.0|               1.0|         2.0|\n",
      "|         132.0|        0.006|           0.0|               0.006|              0.003|                 0.0|                     0.0|                           17.0|                                 2.1|                                                   0.0|                               10.4|          130.0|         68.0|        198.0|                      6.0|                       1.0|         141.0|         136.0|           140.0|              12.0|               0.0|         1.0|\n",
      "|         133.0|        0.003|           0.0|               0.008|              0.003|                 0.0|                     0.0|                           16.0|                                 2.1|                                                   0.0|                               13.4|          130.0|         68.0|        198.0|                      5.0|                       1.0|         141.0|         135.0|           138.0|              13.0|               0.0|         1.0|\n",
      "|         134.0|        0.003|           0.0|               0.008|              0.003|                 0.0|                     0.0|                           16.0|                                 2.4|                                                   0.0|                               23.0|          117.0|         53.0|        170.0|                     11.0|                       0.0|         137.0|         134.0|           137.0|              13.0|               1.0|         1.0|\n",
      "|         132.0|        0.007|           0.0|               0.008|                0.0|                 0.0|                     0.0|                           16.0|                                 2.4|                                                   0.0|                               19.9|          117.0|         53.0|        170.0|                      9.0|                       0.0|         137.0|         136.0|           138.0|              11.0|               1.0|         1.0|\n",
      "|         134.0|        0.001|           0.0|                0.01|              0.009|                 0.0|                   0.002|                           26.0|                                 5.9|                                                   0.0|                                0.0|          150.0|         50.0|        200.0|                      5.0|                       3.0|          76.0|         107.0|           107.0|             170.0|               0.0|         3.0|\n",
      "|         134.0|        0.001|           0.0|               0.013|              0.008|                 0.0|                   0.003|                           29.0|                                 6.3|                                                   0.0|                                0.0|          150.0|         50.0|        200.0|                      6.0|                       3.0|          71.0|         107.0|           106.0|             215.0|               0.0|         3.0|\n",
      "|         122.0|          0.0|           0.0|                 0.0|                0.0|                 0.0|                     0.0|                           83.0|                                 0.5|                                                   6.0|                               15.6|           68.0|         62.0|        130.0|                      0.0|                       0.0|         122.0|         122.0|           123.0|               3.0|               1.0|         3.0|\n",
      "|         122.0|          0.0|           0.0|               0.002|                0.0|                 0.0|                     0.0|                           84.0|                                 0.5|                                                   5.0|                               13.6|           68.0|         62.0|        130.0|                      0.0|                       0.0|         122.0|         122.0|           123.0|               3.0|               1.0|         3.0|\n",
      "|         122.0|          0.0|           0.0|               0.003|                0.0|                 0.0|                     0.0|                           86.0|                                 0.3|                                                   6.0|                               10.6|           68.0|         62.0|        130.0|                      1.0|                       0.0|         122.0|         122.0|           123.0|               1.0|               1.0|         3.0|\n",
      "|         151.0|          0.0|           0.0|               0.001|              0.001|                 0.0|                     0.0|                           64.0|                                 1.9|                                                   9.0|                               27.6|          130.0|         56.0|        186.0|                      2.0|                       0.0|         150.0|         148.0|           151.0|               9.0|               1.0|         2.0|\n",
      "|         150.0|          0.0|           0.0|               0.001|              0.001|                 0.0|                     0.0|                           64.0|                                 2.0|                                                   8.0|                               29.5|          130.0|         56.0|        186.0|                      5.0|                       0.0|         150.0|         148.0|           151.0|              10.0|               1.0|         2.0|\n",
      "|         131.0|        0.005|         0.072|               0.008|              0.003|                 0.0|                     0.0|                           28.0|                                 1.4|                                                   0.0|                               12.9|           66.0|         88.0|        154.0|                      5.0|                       0.0|         135.0|         134.0|           137.0|               7.0|               1.0|         1.0|\n",
      "|         131.0|        0.009|         0.222|               0.006|              0.002|                 0.0|                     0.0|                           28.0|                                 1.5|                                                   0.0|                                5.4|           87.0|         71.0|        158.0|                      2.0|                       0.0|         141.0|         137.0|           141.0|              10.0|               1.0|         1.0|\n",
      "|         130.0|        0.006|         0.408|               0.004|              0.005|                 0.0|                   0.001|                           21.0|                                 2.3|                                                   0.0|                                7.9|          107.0|         67.0|        174.0|                      7.0|                       0.0|         143.0|         125.0|           135.0|              76.0|               0.0|         1.0|\n",
      "|         130.0|        0.006|          0.38|               0.004|              0.004|                 0.0|                   0.001|                           19.0|                                 2.3|                                                   0.0|                                8.7|          107.0|         67.0|        174.0|                      3.0|                       0.0|         134.0|         127.0|           133.0|              43.0|               0.0|         1.0|\n",
      "|         130.0|        0.006|         0.441|               0.005|              0.005|                 0.0|                     0.0|                           24.0|                                 2.1|                                                   0.0|                               10.9|          125.0|         53.0|        178.0|                      5.0|                       0.0|         143.0|         128.0|           138.0|              70.0|               1.0|         1.0|\n",
      "|         131.0|        0.002|         0.383|               0.003|              0.005|                 0.0|                   0.002|                           18.0|                                 2.4|                                                   0.0|                               13.9|          107.0|         67.0|        174.0|                      5.0|                       0.0|         134.0|         125.0|           132.0|              45.0|               0.0|         2.0|\n",
      "|         130.0|        0.003|         0.451|               0.006|              0.004|                 0.0|                   0.001|                           23.0|                                 1.9|                                                   0.0|                                8.8|           99.0|         59.0|        158.0|                      6.0|                       0.0|         133.0|         124.0|           129.0|              36.0|               1.0|         1.0|\n",
      "|         130.0|        0.005|         0.469|               0.005|              0.004|                 0.0|                   0.001|                           29.0|                                 1.7|                                                   0.0|                                7.8|          112.0|         65.0|        177.0|                      6.0|                       1.0|         133.0|         129.0|           133.0|              27.0|               0.0|         1.0|\n",
      "+--------------+-------------+--------------+--------------------+-------------------+--------------------+------------------------+-------------------------------+------------------------------------+------------------------------------------------------+-----------------------------------+---------------+-------------+-------------+-------------------------+--------------------------+--------------+--------------+----------------+------------------+------------------+------------+\n",
      "only showing top 20 rows\n",
      "\n"
     ]
    }
   ],
   "source": [
    "#Loading the data\n",
    "df = spark.read.csv('data/fetal_health.csv',header=True,inferSchema=True)\n",
    "df.show()"
   ]
  },
  {
   "cell_type": "code",
   "execution_count": 5,
   "metadata": {},
   "outputs": [
    {
     "name": "stdout",
     "output_type": "stream",
     "text": [
      "+--------------+-------------+--------------+--------------------+-------------------+--------------------+------------------------+-------------------------------+------------------------------------+------------------------------------------------------+-----------------------------------+---------------+-------------+-------------+-------------------------+--------------------------+--------------+--------------+----------------+------------------+------------------+------------+\n",
      "|baseline value|accelerations|fetal_movement|uterine_contractions|light_decelerations|severe_decelerations|prolongued_decelerations|abnormal_short_term_variability|mean_value_of_short_term_variability|percentage_of_time_with_abnormal_long_term_variability|mean_value_of_long_term_variability|histogram_width|histogram_min|histogram_max|histogram_number_of_peaks|histogram_number_of_zeroes|histogram_mode|histogram_mean|histogram_median|histogram_variance|histogram_tendency|fetal_health|\n",
      "+--------------+-------------+--------------+--------------------+-------------------+--------------------+------------------------+-------------------------------+------------------------------------+------------------------------------------------------+-----------------------------------+---------------+-------------+-------------+-------------------------+--------------------------+--------------+--------------+----------------+------------------+------------------+------------+\n",
      "|         120.0|          0.0|           0.0|                 0.0|                0.0|                 0.0|                     0.0|                           73.0|                                 0.5|                                                  43.0|                                2.4|           64.0|         62.0|        126.0|                      2.0|                       0.0|         120.0|         137.0|           121.0|              73.0|               1.0|         2.0|\n",
      "|         132.0|        0.006|           0.0|               0.006|              0.003|                 0.0|                     0.0|                           17.0|                                 2.1|                                                   0.0|                               10.4|          130.0|         68.0|        198.0|                      6.0|                       1.0|         141.0|         136.0|           140.0|              12.0|               0.0|         1.0|\n",
      "|         133.0|        0.003|           0.0|               0.008|              0.003|                 0.0|                     0.0|                           16.0|                                 2.1|                                                   0.0|                               13.4|          130.0|         68.0|        198.0|                      5.0|                       1.0|         141.0|         135.0|           138.0|              13.0|               0.0|         1.0|\n",
      "|         134.0|        0.003|           0.0|               0.008|              0.003|                 0.0|                     0.0|                           16.0|                                 2.4|                                                   0.0|                               23.0|          117.0|         53.0|        170.0|                     11.0|                       0.0|         137.0|         134.0|           137.0|              13.0|               1.0|         1.0|\n",
      "|         132.0|        0.007|           0.0|               0.008|                0.0|                 0.0|                     0.0|                           16.0|                                 2.4|                                                   0.0|                               19.9|          117.0|         53.0|        170.0|                      9.0|                       0.0|         137.0|         136.0|           138.0|              11.0|               1.0|         1.0|\n",
      "+--------------+-------------+--------------+--------------------+-------------------+--------------------+------------------------+-------------------------------+------------------------------------+------------------------------------------------------+-----------------------------------+---------------+-------------+-------------+-------------------------+--------------------------+--------------+--------------+----------------+------------------+------------------+------------+\n",
      "only showing top 5 rows\n",
      "\n"
     ]
    }
   ],
   "source": [
    "df.show(5) #showing the first 5 rows"
   ]
  },
  {
   "cell_type": "code",
   "execution_count": 6,
   "metadata": {},
   "outputs": [
    {
     "name": "stdout",
     "output_type": "stream",
     "text": [
      "no. of cells in column baseline value with null values: 0\n",
      "no. of cells in column accelerations with null values: 0\n",
      "no. of cells in column fetal_movement with null values: 0\n",
      "no. of cells in column uterine_contractions with null values: 0\n",
      "no. of cells in column light_decelerations with null values: 0\n",
      "no. of cells in column severe_decelerations with null values: 0\n",
      "no. of cells in column prolongued_decelerations with null values: 0\n",
      "no. of cells in column abnormal_short_term_variability with null values: 0\n",
      "no. of cells in column mean_value_of_short_term_variability with null values: 0\n",
      "no. of cells in column percentage_of_time_with_abnormal_long_term_variability with null values: 0\n",
      "no. of cells in column mean_value_of_long_term_variability with null values: 0\n",
      "no. of cells in column histogram_width with null values: 0\n",
      "no. of cells in column histogram_min with null values: 0\n",
      "no. of cells in column histogram_max with null values: 0\n",
      "no. of cells in column histogram_number_of_peaks with null values: 0\n",
      "no. of cells in column histogram_number_of_zeroes with null values: 0\n",
      "no. of cells in column histogram_mode with null values: 0\n",
      "no. of cells in column histogram_mean with null values: 0\n",
      "no. of cells in column histogram_median with null values: 0\n",
      "no. of cells in column histogram_variance with null values: 0\n",
      "no. of cells in column histogram_tendency with null values: 0\n",
      "no. of cells in column fetal_health with null values: 0\n"
     ]
    }
   ],
   "source": [
    "#Check for missing values\n",
    "for col in df.columns:\n",
    "    print(\"no. of cells in column\", col, \"with null values:\", df.filter(df[col].isNull()).count())"
   ]
  },
  {
   "cell_type": "code",
   "execution_count": 8,
   "metadata": {},
   "outputs": [
    {
     "name": "stdout",
     "output_type": "stream",
     "text": [
      "+--------------------+------------+\n",
      "|            features|fetal_health|\n",
      "+--------------------+------------+\n",
      "|[120.0,0.0,0.0,0....|         2.0|\n",
      "|[132.0,0.006,0.0,...|         1.0|\n",
      "|[133.0,0.003,0.0,...|         1.0|\n",
      "|[134.0,0.003,0.0,...|         1.0|\n",
      "|[132.0,0.007,0.0,...|         1.0|\n",
      "+--------------------+------------+\n",
      "only showing top 5 rows\n",
      "\n"
     ]
    }
   ],
   "source": [
    "#all the independent variables need to be packed into one column of vector type\n",
    "from pyspark.ml.feature import VectorAssembler\n",
    "assembler = VectorAssembler(inputCols=[\"baseline value\",\"accelerations\",\"fetal_movement\",\"uterine_contractions\",\"light_decelerations\",\"severe_decelerations\",\"prolongued_decelerations\",\"abnormal_short_term_variability\",\"mean_value_of_short_term_variability\",\"percentage_of_time_with_abnormal_long_term_variability\",\"mean_value_of_long_term_variability\",\"histogram_width\",\"histogram_min\",\"histogram_max\",\"histogram_number_of_peaks\",\"histogram_number_of_zeroes\",\"histogram_mode\",\"histogram_mean\",\"histogram_median\",\"histogram_variance\",\"histogram_tendency\"], \n",
    "                            outputCol=\"features\")\n",
    "feature_vec=assembler.transform(df).select('features','fetal_health')\n",
    "feature_vec.show(5)"
   ]
  },
  {
   "cell_type": "code",
   "execution_count": 9,
   "metadata": {},
   "outputs": [
    {
     "name": "stdout",
     "output_type": "stream",
     "text": [
      "+------------+-----+\n",
      "|fetal_health|count|\n",
      "+------------+-----+\n",
      "|         1.0| 1655|\n",
      "|         3.0|  176|\n",
      "|         2.0|  295|\n",
      "+------------+-----+\n",
      "\n"
     ]
    }
   ],
   "source": [
    "#Count of target classes\n",
    "feature_vec.groupBy('fetal_health').count().show()\n",
    "#there is data imbalance"
   ]
  },
  {
   "cell_type": "code",
   "execution_count": 10,
   "metadata": {},
   "outputs": [],
   "source": [
    "# Split the data into train and test sets\n",
    "train_data, test_data = feature_vec.randomSplit([.75,.25],seed=0)"
   ]
  },
  {
   "cell_type": "markdown",
   "metadata": {},
   "source": [
    "# Logistic Regression"
   ]
  },
  {
   "cell_type": "code",
   "execution_count": 11,
   "metadata": {},
   "outputs": [
    {
     "name": "stdout",
     "output_type": "stream",
     "text": [
      "root\n",
      " |-- features: vector (nullable = true)\n",
      " |-- fetal_health: double (nullable = true)\n",
      " |-- rawPrediction: vector (nullable = true)\n",
      " |-- probability: vector (nullable = true)\n",
      " |-- prediction: double (nullable = true)\n",
      "\n"
     ]
    }
   ],
   "source": [
    "from pyspark.ml.classification import LogisticRegression\n",
    "\n",
    "# Create initial LogisticRegression model\n",
    "lr = LogisticRegression(labelCol=\"fetal_health\", featuresCol=\"features\",  \n",
    "                        maxIter=100, regParam=0.0001, family=\"multinomial\",  \n",
    "                        elasticNetParam=0.0)\n",
    "\n",
    "# Train model with Training Data\n",
    "lrModel = lr.fit(train_data)\n",
    "predictions = lrModel.transform(test_data)\n",
    "predictions.printSchema()"
   ]
  },
  {
   "cell_type": "code",
   "execution_count": 12,
   "metadata": {},
   "outputs": [
    {
     "name": "stdout",
     "output_type": "stream",
     "text": [
      "+------------+----------+\n",
      "|fetal_health|prediction|\n",
      "+------------+----------+\n",
      "|         3.0|       3.0|\n",
      "|         3.0|       3.0|\n",
      "|         1.0|       1.0|\n",
      "|         3.0|       3.0|\n",
      "|         3.0|       3.0|\n",
      "|         3.0|       3.0|\n",
      "|         3.0|       3.0|\n",
      "|         3.0|       3.0|\n",
      "|         1.0|       2.0|\n",
      "|         2.0|       2.0|\n",
      "|         2.0|       2.0|\n",
      "|         1.0|       1.0|\n",
      "|         3.0|       3.0|\n",
      "|         1.0|       1.0|\n",
      "|         1.0|       1.0|\n",
      "|         3.0|       3.0|\n",
      "|         3.0|       3.0|\n",
      "|         1.0|       1.0|\n",
      "|         1.0|       1.0|\n",
      "|         1.0|       1.0|\n",
      "+------------+----------+\n",
      "only showing top 20 rows\n",
      "\n"
     ]
    }
   ],
   "source": [
    "predictions.select('fetal_health','prediction').show()"
   ]
  },
  {
   "cell_type": "code",
   "execution_count": 14,
   "metadata": {},
   "outputs": [
    {
     "data": {
      "text/plain": [
       "0.8936170212765957"
      ]
     },
     "execution_count": 14,
     "metadata": {},
     "output_type": "execute_result"
    }
   ],
   "source": [
    "from pyspark.ml.evaluation import MulticlassClassificationEvaluator #provides accuracy & f1 metrics\n",
    "\n",
    "evaluator = MulticlassClassificationEvaluator(predictionCol='prediction', labelCol='fetal_health', metricName='accuracy')\n",
    "evaluator.evaluate(predictions)"
   ]
  },
  {
   "cell_type": "code",
   "execution_count": 15,
   "metadata": {},
   "outputs": [
    {
     "data": {
      "text/plain": [
       "0.8927650363820576"
      ]
     },
     "execution_count": 15,
     "metadata": {},
     "output_type": "execute_result"
    }
   ],
   "source": [
    "evaluator = MulticlassClassificationEvaluator(predictionCol='prediction', labelCol='fetal_health', metricName='f1')\n",
    "evaluator.evaluate(predictions)"
   ]
  },
  {
   "cell_type": "code",
   "execution_count": 16,
   "metadata": {},
   "outputs": [
    {
     "name": "stdout",
     "output_type": "stream",
     "text": [
      "+------------+-----+\n",
      "|fetal_health|count|\n",
      "+------------+-----+\n",
      "|         1.0|  398|\n",
      "|         3.0|   54|\n",
      "|         2.0|   65|\n",
      "+------------+-----+\n",
      "\n"
     ]
    }
   ],
   "source": [
    "predictions.groupBy('fetal_health').count().show()"
   ]
  },
  {
   "cell_type": "markdown",
   "metadata": {},
   "source": [
    "# Hyper-parameter tuning"
   ]
  },
  {
   "cell_type": "code",
   "execution_count": 17,
   "metadata": {},
   "outputs": [],
   "source": [
    "#Grid Search\n",
    "from pyspark.ml.tuning import ParamGridBuilder, CrossValidator\n",
    "\n",
    "paramGrid = (ParamGridBuilder()\\\n",
    "             .addGrid(lr.regParam,[0.001,0.01,0.1,1])\\\n",
    "             .addGrid(lr.elasticNetParam,[0.0,0.5,1.0])\\\n",
    "             .build())\n",
    "\n",
    "# Create 4-fold CrossValidator\n",
    "cv = CrossValidator(estimator=lr, estimatorParamMaps=paramGrid, evaluator=evaluator, numFolds=4)\n",
    "\n",
    "cvModel = cv.fit(train_data)"
   ]
  },
  {
   "cell_type": "code",
   "execution_count": 18,
   "metadata": {},
   "outputs": [
    {
     "data": {
      "text/plain": [
       "[(0.8873501942709796,\n",
       "  {Param(parent='LogisticRegression_46a1b6f2bdd4e61f5e57', name='regParam', doc='regularization parameter (>= 0).'): 0.001,\n",
       "   Param(parent='LogisticRegression_46a1b6f2bdd4e61f5e57', name='elasticNetParam', doc='the ElasticNet mixing parameter, in range [0, 1]. For alpha = 0, the penalty is an L2 penalty. For alpha = 1, it is an L1 penalty.'): 0.0}),\n",
       " (0.892313510194199,\n",
       "  {Param(parent='LogisticRegression_46a1b6f2bdd4e61f5e57', name='regParam', doc='regularization parameter (>= 0).'): 0.001,\n",
       "   Param(parent='LogisticRegression_46a1b6f2bdd4e61f5e57', name='elasticNetParam', doc='the ElasticNet mixing parameter, in range [0, 1]. For alpha = 0, the penalty is an L2 penalty. For alpha = 1, it is an L1 penalty.'): 0.5}),\n",
       " (0.8873675753031562,\n",
       "  {Param(parent='LogisticRegression_46a1b6f2bdd4e61f5e57', name='regParam', doc='regularization parameter (>= 0).'): 0.001,\n",
       "   Param(parent='LogisticRegression_46a1b6f2bdd4e61f5e57', name='elasticNetParam', doc='the ElasticNet mixing parameter, in range [0, 1]. For alpha = 0, the penalty is an L2 penalty. For alpha = 1, it is an L1 penalty.'): 1.0}),\n",
       " (0.8784172794729562,\n",
       "  {Param(parent='LogisticRegression_46a1b6f2bdd4e61f5e57', name='regParam', doc='regularization parameter (>= 0).'): 0.01,\n",
       "   Param(parent='LogisticRegression_46a1b6f2bdd4e61f5e57', name='elasticNetParam', doc='the ElasticNet mixing parameter, in range [0, 1]. For alpha = 0, the penalty is an L2 penalty. For alpha = 1, it is an L1 penalty.'): 0.0}),\n",
       " (0.8760793670974634,\n",
       "  {Param(parent='LogisticRegression_46a1b6f2bdd4e61f5e57', name='regParam', doc='regularization parameter (>= 0).'): 0.01,\n",
       "   Param(parent='LogisticRegression_46a1b6f2bdd4e61f5e57', name='elasticNetParam', doc='the ElasticNet mixing parameter, in range [0, 1]. For alpha = 0, the penalty is an L2 penalty. For alpha = 1, it is an L1 penalty.'): 0.5}),\n",
       " (0.8749384231668191,\n",
       "  {Param(parent='LogisticRegression_46a1b6f2bdd4e61f5e57', name='regParam', doc='regularization parameter (>= 0).'): 0.01,\n",
       "   Param(parent='LogisticRegression_46a1b6f2bdd4e61f5e57', name='elasticNetParam', doc='the ElasticNet mixing parameter, in range [0, 1]. For alpha = 0, the penalty is an L2 penalty. For alpha = 1, it is an L1 penalty.'): 1.0}),\n",
       " (0.8552610692208531,\n",
       "  {Param(parent='LogisticRegression_46a1b6f2bdd4e61f5e57', name='regParam', doc='regularization parameter (>= 0).'): 0.1,\n",
       "   Param(parent='LogisticRegression_46a1b6f2bdd4e61f5e57', name='elasticNetParam', doc='the ElasticNet mixing parameter, in range [0, 1]. For alpha = 0, the penalty is an L2 penalty. For alpha = 1, it is an L1 penalty.'): 0.0}),\n",
       " (0.7727035666494776,\n",
       "  {Param(parent='LogisticRegression_46a1b6f2bdd4e61f5e57', name='regParam', doc='regularization parameter (>= 0).'): 0.1,\n",
       "   Param(parent='LogisticRegression_46a1b6f2bdd4e61f5e57', name='elasticNetParam', doc='the ElasticNet mixing parameter, in range [0, 1]. For alpha = 0, the penalty is an L2 penalty. For alpha = 1, it is an L1 penalty.'): 0.5}),\n",
       " (0.7026253764514427,\n",
       "  {Param(parent='LogisticRegression_46a1b6f2bdd4e61f5e57', name='regParam', doc='regularization parameter (>= 0).'): 0.1,\n",
       "   Param(parent='LogisticRegression_46a1b6f2bdd4e61f5e57', name='elasticNetParam', doc='the ElasticNet mixing parameter, in range [0, 1]. For alpha = 0, the penalty is an L2 penalty. For alpha = 1, it is an L1 penalty.'): 1.0}),\n",
       " (0.7034805106631585,\n",
       "  {Param(parent='LogisticRegression_46a1b6f2bdd4e61f5e57', name='regParam', doc='regularization parameter (>= 0).'): 1,\n",
       "   Param(parent='LogisticRegression_46a1b6f2bdd4e61f5e57', name='elasticNetParam', doc='the ElasticNet mixing parameter, in range [0, 1]. For alpha = 0, the penalty is an L2 penalty. For alpha = 1, it is an L1 penalty.'): 0.0}),\n",
       " (0.6852384591474565,\n",
       "  {Param(parent='LogisticRegression_46a1b6f2bdd4e61f5e57', name='regParam', doc='regularization parameter (>= 0).'): 1,\n",
       "   Param(parent='LogisticRegression_46a1b6f2bdd4e61f5e57', name='elasticNetParam', doc='the ElasticNet mixing parameter, in range [0, 1]. For alpha = 0, the penalty is an L2 penalty. For alpha = 1, it is an L1 penalty.'): 0.5}),\n",
       " (0.6852384591474565,\n",
       "  {Param(parent='LogisticRegression_46a1b6f2bdd4e61f5e57', name='regParam', doc='regularization parameter (>= 0).'): 1,\n",
       "   Param(parent='LogisticRegression_46a1b6f2bdd4e61f5e57', name='elasticNetParam', doc='the ElasticNet mixing parameter, in range [0, 1]. For alpha = 0, the penalty is an L2 penalty. For alpha = 1, it is an L1 penalty.'): 1.0})]"
      ]
     },
     "execution_count": 18,
     "metadata": {},
     "output_type": "execute_result"
    }
   ],
   "source": [
    "list(zip(cvModel.avgMetrics, cvModel.getEstimatorParamMaps()))"
   ]
  },
  {
   "cell_type": "code",
   "execution_count": 19,
   "metadata": {},
   "outputs": [
    {
     "data": {
      "text/plain": [
       "(0.892313510194199,\n",
       " {Param(parent='LogisticRegression_46a1b6f2bdd4e61f5e57', name='regParam', doc='regularization parameter (>= 0).'): 0.001,\n",
       "  Param(parent='LogisticRegression_46a1b6f2bdd4e61f5e57', name='elasticNetParam', doc='the ElasticNet mixing parameter, in range [0, 1]. For alpha = 0, the penalty is an L2 penalty. For alpha = 1, it is an L1 penalty.'): 0.5})"
      ]
     },
     "execution_count": 19,
     "metadata": {},
     "output_type": "execute_result"
    }
   ],
   "source": [
    "#Best Model Params\n",
    "score_params_list = list(zip(cvModel.avgMetrics, cvModel.getEstimatorParamMaps()))\n",
    "max(score_params_list,key=lambda item:item[0])"
   ]
  },
  {
   "cell_type": "code",
   "execution_count": 20,
   "metadata": {},
   "outputs": [],
   "source": [
    "predictions = cvModel.bestModel.transform(test_data)"
   ]
  },
  {
   "cell_type": "code",
   "execution_count": 21,
   "metadata": {},
   "outputs": [
    {
     "data": {
      "text/plain": [
       "0.904374444509741"
      ]
     },
     "execution_count": 21,
     "metadata": {},
     "output_type": "execute_result"
    }
   ],
   "source": [
    "evaluator.evaluate(predictions)"
   ]
  },
  {
   "cell_type": "markdown",
   "metadata": {},
   "source": [
    "# Inference"
   ]
  },
  {
   "cell_type": "raw",
   "metadata": {},
   "source": [
    "Logistic Regression score .89 which can be considered good enough for predicting target variable"
   ]
  }
 ],
 "metadata": {
  "kernelspec": {
   "display_name": "Python 3",
   "language": "python",
   "name": "python3"
  },
  "language_info": {
   "codemirror_mode": {
    "name": "ipython",
    "version": 3
   },
   "file_extension": ".py",
   "mimetype": "text/x-python",
   "name": "python",
   "nbconvert_exporter": "python",
   "pygments_lexer": "ipython3",
   "version": "3.6.8"
  },
  "toc": {
   "base_numbering": 1,
   "nav_menu": {},
   "number_sections": true,
   "sideBar": true,
   "skip_h1_title": false,
   "title_cell": "Table of Contents",
   "title_sidebar": "Contents",
   "toc_cell": false,
   "toc_position": {},
   "toc_section_display": true,
   "toc_window_display": false
  }
 },
 "nbformat": 4,
 "nbformat_minor": 2
}
