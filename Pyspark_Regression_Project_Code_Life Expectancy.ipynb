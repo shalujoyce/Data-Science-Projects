{
 "cells": [
  {
   "cell_type": "raw",
   "metadata": {},
   "source": [
    "The data contains 21 columns and 2938 rows with the header row. The table contains data about:\n",
    "\n",
    "country (Nominal) - the country in which the indicators are from (i.e. United States of America or Congo)\n",
    "year (Ordinal) - the calendar year the indicators are from (ranging from 2000 to 2015)\n",
    "status (Nominal) - whether a country is considered to be 'Developing' or 'Developed' by WHO standards\n",
    "life_expectancy (Ratio) - the life expectancy of people in years for a particular country and year\n",
    "adult_mortality (Ratio) - the adult mortality rate per 1000 population (i.e. number of people dying between 15 and 60 years per 1000 population); if the rate is 263 then that means 263 people will die out of 1000 between the ages of 15 and 60; another way to think of this is that the chance an individual will die between 15 and 60 is 26.3%\n",
    "infant_deaths (Ratio) - number of infant deaths per 1000 population; similar to above, but for infants\n",
    "alcohol (Ratio) - a country's alcohol consumption rate measured as liters of pure alcohol consumption per capita\n",
    "percentage_expenditure (Ratio) - expenditure on health as a percentage of Gross Domestic Product (gdp)\n",
    "hepatitis_b (Ratio) - number of 1 year olds with Hepatitis B immunization over all 1 year olds in population\n",
    "measles (Ratio) - number of reported Measles cases per 1000 population\n",
    "bmi (Interval/Ordinal) - average Body Mass Index (BMI) of a country's total population\n",
    "under-five_deaths (Ratio) - number of people under the age of five deaths per 1000 population\n",
    "polio (Ratio) - number of 1 year olds with Polio immunization over the number of all 1 year olds in population\n",
    "total_expenditure (Ratio) - government expenditure on health as a percentage of total government expenditure\n",
    "diphtheria (Ratio) - Diphtheria tetanus toxoid and pertussis (DTP3) immunization rate of 1 year olds\n",
    "hiv/aids (Ratio) - deaths per 1000 live births caused by HIV/AIDS for people under 5; number of people under 5 who die due to HIV/AIDS per 1000 births\n",
    "gdp (Ratio) - Gross Domestic Product per capita\n",
    "population (Ratio) - population of a country\n",
    "thinness_1-19_years (Ratio) - rate of thinness among people aged 10-19 (Note: variable should be renamed to thinness_10-19_years to more accurately represent the variable)\n",
    "thinness_5-9_years (Ratio) - rate of thinness among people aged 5-9\n",
    "income_composition_of_resources (Ratio) - Human Development Index in terms of income composition of resources (index ranging from 0 to 1)\n",
    "schooling (Ratio) - average number of years of schooling of a population"
   ]
  },
  {
   "cell_type": "code",
   "execution_count": 1,
   "metadata": {},
   "outputs": [],
   "source": [
    "#set environment\n",
    "import os\n",
    "import sys\n",
    " \n",
    "os.environ[\"SPARK_HOME\"] = \"/usr/hdp/current/spark2-client\"\n",
    "os.environ[\"PYLIB\"] = os.environ[\"SPARK_HOME\"] + \"/python/lib\"\n",
    "# In below two lines, use /usr/bin/python2.7 if you want to use Python 2\n",
    "os.environ[\"PYSPARK_PYTHON\"] = \"/usr/local/anaconda/bin/python\" \n",
    "os.environ[\"PYSPARK_DRIVER_PYTHON\"] = \"/usr/local/anaconda/bin/python\"\n",
    "sys.path.insert(0, os.environ[\"PYLIB\"] +\"/py4j-0.10.4-src.zip\")\n",
    "sys.path.insert(0, os.environ[\"PYLIB\"] +\"/pyspark.zip\")"
   ]
  },
  {
   "cell_type": "code",
   "execution_count": 2,
   "metadata": {},
   "outputs": [],
   "source": [
    "#import Sparksession driver\n",
    "from pyspark.sql import SparkSession\n",
    "spark = SparkSession \\\n",
    "    .builder \\\n",
    "    .appName(\"Regression on life expectancy\") \\\n",
    "    .getOrCreate()"
   ]
  },
  {
   "cell_type": "code",
   "execution_count": 18,
   "metadata": {},
   "outputs": [
    {
     "name": "stdout",
     "output_type": "stream",
     "text": [
      "+---------------+---------------+-------------+-------+----------------------+----------+-------+----+-----------------+-----+-----------------+----------+--------+------------------+-----------+-------------------+------------------+-------------------------------+---------+----------------+-----------------+\n",
      "|Life_expectancy|Adult_mortality|Infant_deaths|Alcohol|Percentage_expenditure|HepatitisB|Measles| BMI|Under_five_deaths|Polio|Total_expenditure|Diphtheria|HIV/AIDS|               GDP| Population|Thinness_1-19_years|Thinness_5-9_years|Income_composition_of_resources|Schooling|Status_Developed|Status_Developing|\n",
      "+---------------+---------------+-------------+-------+----------------------+----------+-------+----+-----------------+-----+-----------------+----------+--------+------------------+-----------+-------------------+------------------+-------------------------------+---------+----------------+-----------------+\n",
      "|           65.0|          263.0|           62|   0.01|           71.27962362|      65.0|   1154|19.1|               83|  6.0|             8.16|      65.0|     0.1| 584.2592099999999|3.3736494E7|               17.2|              17.3|                          0.479|     10.1|               0|                1|\n",
      "|           59.9|          271.0|           64|   0.01|           73.52358168|      62.0|    492|18.6|               86| 58.0|             8.18|      62.0|     0.1|        612.696514|   327582.0|               17.5|              17.5|            0.47600000000000003|     10.0|               0|                1|\n",
      "|           59.9|          268.0|           66|   0.01|           73.21924272|      64.0|    430|18.1|               89| 62.0|             8.13|      64.0|     0.1|        631.744976|3.1731688E7|               17.7|              17.7|                           0.47|      9.9|               0|                1|\n",
      "|           59.5|          272.0|           69|   0.01|     78.18421529999999|      67.0|   2787|17.6|               93| 67.0|             8.52|      67.0|     0.1|           669.959|  3696958.0|               17.9|              18.0|            0.46299999999999997|      9.8|               0|                1|\n",
      "|           59.2|          275.0|           71|   0.01|           7.097108703|      68.0|   3013|17.2|               97| 68.0|             7.87|      68.0|     0.1|63.537231000000006|  2978599.0|               18.2|              18.2|            0.45399999999999996|      9.5|               0|                1|\n",
      "|           58.8|          279.0|           74|   0.01|           79.67936736|      66.0|   1989|16.7|              102| 66.0|              9.2|      66.0|     0.1|         553.32894|  2883167.0|               18.4|              18.4|            0.44799999999999995|      9.2|               0|                1|\n",
      "|           58.6|          281.0|           77|   0.01|           56.76221682|      63.0|   2861|16.2|              106| 63.0|             9.42|      63.0|     0.1|445.89329789999994|   284331.0|               18.6|              18.7|                          0.434|      8.9|               0|                1|\n",
      "|           58.1|          287.0|           80|   0.03|           25.87392536|      64.0|   1599|15.7|              110| 64.0|             8.33|      64.0|     0.1|       373.3611163|  2729431.0|               18.8|              18.9|                          0.433|      8.7|               0|                1|\n",
      "|           57.5|          295.0|           82|   0.02|           10.91015598|      63.0|   1141|15.2|              113| 63.0|             6.73|      63.0|     0.1|        369.835796|2.6616792E7|               19.0|              19.1|                          0.415|      8.4|               0|                1|\n",
      "|           57.3|          295.0|           84|   0.03|           17.17151751|      64.0|   1990|14.7|              116| 58.0|             7.43|      58.0|     0.1|272.56377000000003|  2589345.0|               19.2|              19.3|                          0.405|      8.1|               0|                1|\n",
      "|           57.3|          291.0|           85|   0.02|           1.388647732|      66.0|   1296|14.2|              118| 58.0|              8.7|      58.0|     0.1|        25.2941299|   257798.0|               19.3|              19.5|                          0.396|      7.9|               0|                1|\n",
      "|           57.0|          293.0|           87|   0.02|           15.29606643|      67.0|    466|13.8|              120|  5.0|             8.79|       5.0|     0.1|       219.1413528|2.4118979E7|               19.5|              19.7|                          0.381|      6.8|               0|                1|\n",
      "|           56.7|          295.0|           87|   0.01|           11.08905273|      65.0|    798|13.4|              122| 41.0|             8.82|      41.0|     0.1|       198.7285436|  2364851.0|               19.7|              19.9|                          0.373|      6.5|               0|                1|\n",
      "|           56.2|            3.0|           88|   0.01|           16.88735091|      64.0|   2486|13.0|              122| 36.0|             7.76|      36.0|     0.1|         187.84595|2.1979923E7|               19.9|               2.2|                          0.341|      6.2|               0|                1|\n",
      "|           55.3|          316.0|           88|   0.01|            10.5747282|      63.0|   8762|12.6|              122| 35.0|              7.8|      33.0|     0.1|117.49698000000001|  2966463.0|                2.1|               2.4|                           0.34|      5.9|               0|                1|\n",
      "|           54.8|          321.0|           88|   0.01|              10.42496|      62.0|   6532|12.2|              122| 24.0|              8.2|      24.0|     0.1|            114.56|   293756.0|                2.3|               2.5|            0.33799999999999997|      5.5|               0|                1|\n",
      "|           77.8|           74.0|            0|    4.6|           364.9752287|      99.0|      0|58.0|                0| 99.0|              6.0|      99.0|     0.1|        3954.22783|    28873.0|                1.2|               1.3|                          0.762|     14.2|               0|                1|\n",
      "|           77.5|            8.0|            0|   4.51|    428.74906680000004|      98.0|      0|57.2|                1| 98.0|             5.88|      98.0|     0.1|       4575.763787|   288914.0|                1.2|               1.3|             0.7609999999999999|     14.2|               0|                1|\n",
      "|           77.2|           84.0|            0|   4.76|           430.8769785|      99.0|      0|56.5|                1| 99.0|             5.66|      99.0|     0.1|        4414.72314|   289592.0|                1.3|               1.4|                          0.759|     14.2|               0|                1|\n",
      "|           76.9|           86.0|            0|   5.14|           412.4433563|      99.0|      9|55.8|                1| 99.0|             5.59|      99.0|     0.1|        4247.61438|     2941.0|                1.3|               1.4|                          0.752|     14.2|               0|                1|\n",
      "+---------------+---------------+-------------+-------+----------------------+----------+-------+----+-----------------+-----+-----------------+----------+--------+------------------+-----------+-------------------+------------------+-------------------------------+---------+----------------+-----------------+\n",
      "only showing top 20 rows\n",
      "\n"
     ]
    }
   ],
   "source": [
    "#Loading the data\n",
    "df = spark.read.csv('data/LFED.csv',header=True,inferSchema=True)\n",
    "df.show()"
   ]
  },
  {
   "cell_type": "code",
   "execution_count": 19,
   "metadata": {},
   "outputs": [
    {
     "name": "stdout",
     "output_type": "stream",
     "text": [
      "+---------------+---------------+-------------+-------+----------------------+----------+-------+----+-----------------+-----+-----------------+----------+--------+------------------+-----------+-------------------+------------------+-------------------------------+---------+----------------+-----------------+\n",
      "|Life_expectancy|Adult_mortality|Infant_deaths|Alcohol|Percentage_expenditure|HepatitisB|Measles| BMI|Under_five_deaths|Polio|Total_expenditure|Diphtheria|HIV/AIDS|               GDP| Population|Thinness_1-19_years|Thinness_5-9_years|Income_composition_of_resources|Schooling|Status_Developed|Status_Developing|\n",
      "+---------------+---------------+-------------+-------+----------------------+----------+-------+----+-----------------+-----+-----------------+----------+--------+------------------+-----------+-------------------+------------------+-------------------------------+---------+----------------+-----------------+\n",
      "|           65.0|          263.0|           62|   0.01|           71.27962362|      65.0|   1154|19.1|               83|  6.0|             8.16|      65.0|     0.1| 584.2592099999999|3.3736494E7|               17.2|              17.3|                          0.479|     10.1|               0|                1|\n",
      "|           59.9|          271.0|           64|   0.01|           73.52358168|      62.0|    492|18.6|               86| 58.0|             8.18|      62.0|     0.1|        612.696514|   327582.0|               17.5|              17.5|            0.47600000000000003|     10.0|               0|                1|\n",
      "|           59.9|          268.0|           66|   0.01|           73.21924272|      64.0|    430|18.1|               89| 62.0|             8.13|      64.0|     0.1|        631.744976|3.1731688E7|               17.7|              17.7|                           0.47|      9.9|               0|                1|\n",
      "|           59.5|          272.0|           69|   0.01|     78.18421529999999|      67.0|   2787|17.6|               93| 67.0|             8.52|      67.0|     0.1|           669.959|  3696958.0|               17.9|              18.0|            0.46299999999999997|      9.8|               0|                1|\n",
      "|           59.2|          275.0|           71|   0.01|           7.097108703|      68.0|   3013|17.2|               97| 68.0|             7.87|      68.0|     0.1|63.537231000000006|  2978599.0|               18.2|              18.2|            0.45399999999999996|      9.5|               0|                1|\n",
      "+---------------+---------------+-------------+-------+----------------------+----------+-------+----+-----------------+-----+-----------------+----------+--------+------------------+-----------+-------------------+------------------+-------------------------------+---------+----------------+-----------------+\n",
      "only showing top 5 rows\n",
      "\n"
     ]
    }
   ],
   "source": [
    "df.show(5)"
   ]
  },
  {
   "cell_type": "code",
   "execution_count": 20,
   "metadata": {},
   "outputs": [
    {
     "name": "stdout",
     "output_type": "stream",
     "text": [
      "root\n",
      " |-- Life_expectancy: double (nullable = true)\n",
      " |-- Adult_mortality: double (nullable = true)\n",
      " |-- Infant_deaths: integer (nullable = true)\n",
      " |-- Alcohol: double (nullable = true)\n",
      " |-- Percentage_expenditure: double (nullable = true)\n",
      " |-- HepatitisB: double (nullable = true)\n",
      " |-- Measles: integer (nullable = true)\n",
      " |-- BMI: double (nullable = true)\n",
      " |-- Under_five_deaths: integer (nullable = true)\n",
      " |-- Polio: double (nullable = true)\n",
      " |-- Total_expenditure: double (nullable = true)\n",
      " |-- Diphtheria: double (nullable = true)\n",
      " |-- HIV/AIDS: double (nullable = true)\n",
      " |-- GDP: double (nullable = true)\n",
      " |-- Population: double (nullable = true)\n",
      " |-- Thinness_1-19_years: double (nullable = true)\n",
      " |-- Thinness_5-9_years: double (nullable = true)\n",
      " |-- Income_composition_of_resources: double (nullable = true)\n",
      " |-- Schooling: double (nullable = true)\n",
      " |-- Status_Developed: integer (nullable = true)\n",
      " |-- Status_Developing: integer (nullable = true)\n",
      "\n"
     ]
    }
   ],
   "source": [
    "df.printSchema()"
   ]
  },
  {
   "cell_type": "code",
   "execution_count": 21,
   "metadata": {},
   "outputs": [
    {
     "name": "stdout",
     "output_type": "stream",
     "text": [
      "no. of cells in column Life_expectancy with null values: 0\n",
      "no. of cells in column Adult_mortality with null values: 0\n",
      "no. of cells in column Infant_deaths with null values: 0\n",
      "no. of cells in column Alcohol with null values: 0\n",
      "no. of cells in column Percentage_expenditure with null values: 0\n",
      "no. of cells in column HepatitisB with null values: 0\n",
      "no. of cells in column Measles with null values: 0\n",
      "no. of cells in column BMI with null values: 0\n",
      "no. of cells in column Under_five_deaths with null values: 0\n",
      "no. of cells in column Polio with null values: 0\n",
      "no. of cells in column Total_expenditure with null values: 0\n",
      "no. of cells in column Diphtheria with null values: 0\n",
      "no. of cells in column HIV/AIDS with null values: 0\n",
      "no. of cells in column GDP with null values: 0\n",
      "no. of cells in column Population with null values: 0\n",
      "no. of cells in column Thinness_1-19_years with null values: 0\n",
      "no. of cells in column Thinness_5-9_years with null values: 0\n",
      "no. of cells in column Income_composition_of_resources with null values: 0\n",
      "no. of cells in column Schooling with null values: 0\n",
      "no. of cells in column Status_Developed with null values: 0\n",
      "no. of cells in column Status_Developing with null values: 0\n"
     ]
    }
   ],
   "source": [
    "#Check for missing values\n",
    "for col in df.columns:\n",
    "    print(\"no. of cells in column\", col, \"with null values:\", df.filter(df[col].isNull()).count())"
   ]
  },
  {
   "cell_type": "code",
   "execution_count": 22,
   "metadata": {},
   "outputs": [
    {
     "name": "stdout",
     "output_type": "stream",
     "text": [
      "+--------------------+---------------+\n",
      "|            features|Life_expectancy|\n",
      "+--------------------+---------------+\n",
      "|[263.0,62.0,0.01,...|           65.0|\n",
      "|[271.0,64.0,0.01,...|           59.9|\n",
      "|[268.0,66.0,0.01,...|           59.9|\n",
      "|[272.0,69.0,0.01,...|           59.5|\n",
      "|[275.0,71.0,0.01,...|           59.2|\n",
      "+--------------------+---------------+\n",
      "only showing top 5 rows\n",
      "\n"
     ]
    }
   ],
   "source": [
    "#all the independent variables need to be packed into one column of vector type\n",
    "from pyspark.ml.feature import VectorAssembler\n",
    "assembler = VectorAssembler(inputCols=['Adult_mortality','Infant_deaths','Alcohol','Percentage_expenditure','HepatitisB','Measles','BMI','Under_five_deaths','Polio','Total_expenditure','Diphtheria','HIV/AIDS','GDP','Population','Thinness_1-19_years','Thinness_5-9_years','Income_composition_of_resources','Schooling','Status_Developed','Status_Developing'], \n",
    "                            outputCol=\"features\")\n",
    "feature_vec=assembler.transform(df).select('features','Life_expectancy')\n",
    "feature_vec.show(5)"
   ]
  },
  {
   "cell_type": "code",
   "execution_count": 24,
   "metadata": {},
   "outputs": [],
   "source": [
    "# Split the data into train and test sets\n",
    "train_data, test_data = feature_vec.randomSplit([.75,.25],seed=0)"
   ]
  },
  {
   "cell_type": "markdown",
   "metadata": {},
   "source": [
    "# Random Forest Regression"
   ]
  },
  {
   "cell_type": "code",
   "execution_count": 26,
   "metadata": {},
   "outputs": [
    {
     "data": {
      "text/plain": [
       "0.962063706844703"
      ]
     },
     "execution_count": 26,
     "metadata": {},
     "output_type": "execute_result"
    }
   ],
   "source": [
    "from pyspark.ml.regression import RandomForestRegressor\n",
    "model = RandomForestRegressor(labelCol='Life_expectancy', featuresCol=\"features\",  \n",
    "                        maxDepth=15, minInfoGain=0.001, seed=0, numTrees=110)\n",
    "rfModel = model.fit(train_data)\n",
    "\n",
    "#Evaulation of the Model\n",
    "predictions = rfModel.transform(test_data)\n",
    "\n",
    "from pyspark.ml.evaluation import RegressionEvaluator\n",
    "evaluator = RegressionEvaluator(labelCol='Life_expectancy',metricName='r2')\n",
    "evaluator.evaluate(predictions)"
   ]
  },
  {
   "cell_type": "markdown",
   "metadata": {},
   "source": [
    "# Hyper-paramater tuning"
   ]
  },
  {
   "cell_type": "code",
   "execution_count": 27,
   "metadata": {},
   "outputs": [],
   "source": [
    "#Grid Search\n",
    "from pyspark.ml.tuning import ParamGridBuilder, CrossValidator\n",
    "model = RandomForestRegressor(labelCol='Life_expectancy', featuresCol=\"features\",  \n",
    "                        minInfoGain=0.001, seed=0)\n",
    "paramGrid = (ParamGridBuilder()\\\n",
    "             .addGrid(model.maxDepth,[13,14,15])\\\n",
    "             .addGrid(model.numTrees,[100,110,120])\\\n",
    "             .build())\n",
    "\n",
    "# Create 4-fold CrossValidator\n",
    "cv = CrossValidator(estimator=model, estimatorParamMaps=paramGrid, evaluator=evaluator, numFolds=4)\n",
    "\n",
    "cvModel = cv.fit(train_data)"
   ]
  },
  {
   "cell_type": "code",
   "execution_count": 28,
   "metadata": {},
   "outputs": [
    {
     "data": {
      "text/plain": [
       "(0.9541684082316708,\n",
       " {Param(parent='RandomForestRegressor_4e07838b217be1075ed6', name='maxDepth', doc='Maximum depth of the tree. (>= 0) E.g., depth 0 means 1 leaf node; depth 1 means 1 internal node + 2 leaf nodes.'): 15,\n",
       "  Param(parent='RandomForestRegressor_4e07838b217be1075ed6', name='numTrees', doc='Number of trees to train (>= 1).'): 100})"
      ]
     },
     "execution_count": 28,
     "metadata": {},
     "output_type": "execute_result"
    }
   ],
   "source": [
    "#Best Model Params\n",
    "score_params_list = list(zip(cvModel.avgMetrics, cvModel.getEstimatorParamMaps()))\n",
    "max(score_params_list,key=lambda item:item[0])"
   ]
  },
  {
   "cell_type": "raw",
   "metadata": {},
   "source": [
    "Inference\n",
    "\n",
    "Random forest provides .96 which is very good  score for prediction"
   ]
  }
 ],
 "metadata": {
  "kernelspec": {
   "display_name": "Python 3",
   "language": "python",
   "name": "python3"
  },
  "language_info": {
   "codemirror_mode": {
    "name": "ipython",
    "version": 3
   },
   "file_extension": ".py",
   "mimetype": "text/x-python",
   "name": "python",
   "nbconvert_exporter": "python",
   "pygments_lexer": "ipython3",
   "version": "3.6.8"
  },
  "toc": {
   "base_numbering": 1,
   "nav_menu": {},
   "number_sections": true,
   "sideBar": true,
   "skip_h1_title": false,
   "title_cell": "Table of Contents",
   "title_sidebar": "Contents",
   "toc_cell": false,
   "toc_position": {},
   "toc_section_display": true,
   "toc_window_display": false
  }
 },
 "nbformat": 4,
 "nbformat_minor": 2
}
